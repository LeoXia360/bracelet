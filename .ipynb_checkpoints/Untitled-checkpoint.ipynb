{
 "cells": [
  {
   "cell_type": "code",
   "execution_count": 3,
   "metadata": {},
   "outputs": [
    {
     "ename": "IndentationError",
     "evalue": "unindent does not match any outer indentation level (<ipython-input-3-fbed8f1a3e86>, line 32)",
     "output_type": "error",
     "traceback": [
      "\u001b[0;36m  File \u001b[0;32m\"<ipython-input-3-fbed8f1a3e86>\"\u001b[0;36m, line \u001b[0;32m32\u001b[0m\n\u001b[0;31m    name_list = ['g_x', 'g_y', 'g_z', 'a_x', 'a_y', 'a_z', 'm_x', 'm_y', 'm_z', 'pitch', 'roll', 'heading']\u001b[0m\n\u001b[0m                                                                                                           ^\u001b[0m\n\u001b[0;31mIndentationError\u001b[0m\u001b[0;31m:\u001b[0m unindent does not match any outer indentation level\n"
     ]
    }
   ],
   "source": [
    "import pandas as pd\n",
    "import numpy as np\n",
    "import matplotlib.pyplot as plt\n",
    "\n",
    "\n",
    "\n",
    "data_file = open('./accelerometer_data_csv_form.txt', 'r') \n",
    "\n",
    "\n",
    "\n",
    "try:\n",
    "\tlines = data_file.read().splitlines()\n",
    "\twhile '' in lines: lines.remove('')\n",
    "\n",
    "\tg_x = []\n",
    "\tg_y = []\n",
    "\tg_z = []\n",
    "\n",
    "\ta_x = []\n",
    "\ta_y = []\n",
    "\ta_z = []\n",
    "\n",
    "\tm_x = []\n",
    "\tm_y = []\n",
    "\tm_z = []\n",
    "\n",
    "\tpitch = []\n",
    "\troll = []\n",
    "\theading = []\n",
    "\n",
    "\tall_list = [];\n",
    "    name_list = ['g_x', 'g_y', 'g_z', 'a_x', 'a_y', 'a_z', 'm_x', 'm_y', 'm_z', 'pitch', 'roll', 'heading']\n",
    "\tall_list.extend((g_x, g_y, g_z, a_x, a_y, a_z, m_x, m_y, m_z, pitch, roll, heading))\n",
    "\n",
    "\n",
    "\tfor line in lines:\n",
    "\t\tcurrent_line_list = line.split(',')\n",
    "\t\tfor val, array in zip(current_line_list, all_list):\n",
    "\t\t\tarray.append(float(val))\n",
    "\n",
    "\n",
    "\n",
    "\tfor lists, name in zip(all_list, name_list):\n",
    "\t\tpd.DataFrame(lists).plot(title=name)\n",
    "\n",
    "\n",
    "\t\t\n",
    "\t\n",
    "finally:\n",
    "\tdata_file.close()\n"
   ]
  },
  {
   "cell_type": "code",
   "execution_count": null,
   "metadata": {},
   "outputs": [],
   "source": []
  }
 ],
 "metadata": {
  "kernelspec": {
   "display_name": "Python 2",
   "language": "python",
   "name": "python2"
  },
  "language_info": {
   "codemirror_mode": {
    "name": "ipython",
    "version": 2
   },
   "file_extension": ".py",
   "mimetype": "text/x-python",
   "name": "python",
   "nbconvert_exporter": "python",
   "pygments_lexer": "ipython2",
   "version": "2.7.13"
  }
 },
 "nbformat": 4,
 "nbformat_minor": 2
}
